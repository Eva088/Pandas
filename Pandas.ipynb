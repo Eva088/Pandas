{
 "cells": [
  {
   "cell_type": "markdown",
   "metadata": {},
   "source": [
    "Introduction\n",
    "\n",
    "This notebook explores different functionalities of the pandas library. "
   ]
  },
  {
   "cell_type": "code",
   "execution_count": null,
   "metadata": {},
   "outputs": [],
   "source": [
    "#Creating a dataframe to store the passenger data of the Titanic\n",
    "\n",
    "import pandas as pd\n",
    "df = pd.DataFrame(\n",
    "    {'Name' : [\n",
    "        'Braund, Mr. Owen Harris',\n",
    "        'Allen, Mr. William Henry',\n",
    "        'Bonnell, Miss. Elizabeth'\n",
    "        ],\n",
    "    'Age' : [22,35,58],\n",
    "    'Sex' : ['Male', 'Male', 'Female']\n",
    "\n",
    "\n",
    "    }\n",
    "\n",
    ")\n",
    "print(df.head()) #each column in a dataframe is a series\n",
    "\n",
    "#Extracting a single column from a dataframe\n",
    "\n",
    "df['Age'] #a pandas series has no column labels as it is a single column of a dataframe. It does have row labels. \n"
   ]
  },
  {
   "cell_type": "code",
   "execution_count": null,
   "metadata": {},
   "outputs": [],
   "source": [
    "#Creating a series from scratch\n",
    "\n",
    "ages = pd.Series([21,22,23], name = 'Age')\n",
    "\n",
    "#Performing operation on Dataframe or Series\n",
    "\n",
    "print(df['Age'].mean().__round__(2))\n",
    "\n",
    "print(ages.min())\n",
    "\n",
    "#Getting the basic statistics of the numerical data \n",
    "\n",
    "df.describe()\n"
   ]
  },
  {
   "cell_type": "code",
   "execution_count": null,
   "metadata": {},
   "outputs": [],
   "source": [
    "#Reading the titanic data and storing it as a pandas dataframe\n",
    "\n",
    "titanic = pd.read_csv('/workspaces/Pandas/Datasets/titanic.csv')\n",
    "\n",
    "#Displaying the first 8 rows\n",
    "\n",
    "titanic.head(8)\n",
    "\n",
    "#Displaying the last 10 rows\n",
    "titanic.tail(10)\n",
    "\n",
    "#Checking how pandas interpreted each of the column datatype\n",
    "\n",
    "titanic.dtypes\n"
   ]
  },
  {
   "cell_type": "code",
   "execution_count": 41,
   "metadata": {},
   "outputs": [
    {
     "name": "stdout",
     "output_type": "stream",
     "text": [
      "<class 'pandas.core.frame.DataFrame'>\n",
      "RangeIndex: 891 entries, 0 to 890\n",
      "Data columns (total 12 columns):\n",
      " #   Column       Non-Null Count  Dtype  \n",
      "---  ------       --------------  -----  \n",
      " 0   PassengerId  891 non-null    int64  \n",
      " 1   Survived     891 non-null    int64  \n",
      " 2   Pclass       891 non-null    int64  \n",
      " 3   Name         891 non-null    object \n",
      " 4   Sex          891 non-null    object \n",
      " 5   Age          714 non-null    float64\n",
      " 6   SibSp        891 non-null    int64  \n",
      " 7   Parch        891 non-null    int64  \n",
      " 8   Ticket       891 non-null    object \n",
      " 9   Fare         891 non-null    float64\n",
      " 10  Cabin        204 non-null    object \n",
      " 11  Embarked     889 non-null    object \n",
      "dtypes: float64(2), int64(5), object(5)\n",
      "memory usage: 83.7+ KB\n"
     ]
    }
   ],
   "source": [
    "#Extracting the titanic dataset in a csv format\n",
    "#titanic.to_excel('titanic.xlsx', sheet_name= 'Passenger', engine = 'xlsxwriter')\n",
    "\n",
    "#Getting a technical summary of the dataframe\n",
    "\n",
    "titanic.info()\n"
   ]
  }
 ],
 "metadata": {
  "kernelspec": {
   "display_name": "Python 3",
   "language": "python",
   "name": "python3"
  },
  "language_info": {
   "codemirror_mode": {
    "name": "ipython",
    "version": 3
   },
   "file_extension": ".py",
   "mimetype": "text/x-python",
   "name": "python",
   "nbconvert_exporter": "python",
   "pygments_lexer": "ipython3",
   "version": "3.12.1"
  }
 },
 "nbformat": 4,
 "nbformat_minor": 2
}
